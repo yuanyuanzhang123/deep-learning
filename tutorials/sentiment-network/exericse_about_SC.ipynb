{
 "cells": [
  {
   "cell_type": "code",
   "execution_count": 6,
   "metadata": {
    "scrolled": true
   },
   "outputs": [
    {
     "name": "stdout",
     "output_type": "stream",
     "text": [
      "Counter({'the': 2, 'is': 2, 'dog': 1, 'so': 1, 'cute,': 1, 'and': 1, 'cat': 1, 'not': 1})\n",
      "[('the', 2), ('is', 2), ('dog', 1), ('so', 1), ('cute,', 1), ('and', 1), ('cat', 1), ('not', 1)]\n",
      "{'and', 'cute,', 'cat', 'so', 'dog', 'not'}\n",
      "set()\n",
      "{'and', 'cute,', 'cat', 'so', 'dog', 'not'}\n"
     ]
    }
   ],
   "source": [
    "import numpy as np\n",
    "from collections import Counter\n",
    "text = 'the dog is so cute, and the cat is not'\n",
    "a = Counter(text.split())\n",
    "#a 是一个字典\n",
    "print(a)\n",
    "#most_common返回的是一个list,所以下面第二个test是没有结果的，因为list不能a[word]这样访问\n",
    "print(a.most_common())\n",
    "test = set()\n",
    "for word in a:\n",
    "    if(a[word] ==1):\n",
    "        test.add(word)\n",
    "print(test)\n",
    "test = set()\n",
    "for word in a.most_common():\n",
    "    if(a[word] ==1):\n",
    "        test.add(word)\n",
    "print(test)\n",
    "test2 = set()\n",
    "#效果等同于上面的第一个test，但是这里是从大到小排序的\n",
    "for word,cnt in list(a.most_common()):\n",
    "    if cnt== 1:\n",
    "        test2.add(word)\n",
    "print(test2)"
   ]
  },
  {
   "cell_type": "code",
   "execution_count": 9,
   "metadata": {},
   "outputs": [
    {
     "name": "stdout",
     "output_type": "stream",
     "text": [
      "3\n",
      "-4\n"
     ]
    }
   ],
   "source": [
    "#求绝对值函数abs\n",
    "li = [1,-1,3,-4]\n",
    "for i in li:\n",
    "    if abs(i)>1:\n",
    "        print(i)"
   ]
  },
  {
   "cell_type": "code",
   "execution_count": null,
   "metadata": {
    "collapsed": true
   },
   "outputs": [],
   "source": []
  }
 ],
 "metadata": {
  "kernelspec": {
   "display_name": "Python [conda env:py3]",
   "language": "python",
   "name": "conda-env-py3-py"
  },
  "language_info": {
   "codemirror_mode": {
    "name": "ipython",
    "version": 3
   },
   "file_extension": ".py",
   "mimetype": "text/x-python",
   "name": "python",
   "nbconvert_exporter": "python",
   "pygments_lexer": "ipython3",
   "version": "3.6.2"
  }
 },
 "nbformat": 4,
 "nbformat_minor": 2
}
